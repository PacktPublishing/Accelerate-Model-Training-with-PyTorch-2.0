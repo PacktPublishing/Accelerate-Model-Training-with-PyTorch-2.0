{
 "cells": [
  {
   "cell_type": "code",
   "execution_count": 1,
   "id": "89f7aa0d-bc32-4bde-905e-1c846970e50d",
   "metadata": {
    "tags": []
   },
   "outputs": [],
   "source": [
    "import os\n",
    "\n",
    "#os.environ[\"LD_PRELOAD\"] = \"/opt/conda/lib/libiomp5.so\"\n",
    "os.environ[\"OMP_NUM_THREADS\"] = \"8\"\n",
    "os.environ[\"MKL_NUM_THREADS\"] = \"8\"\n",
    "#os.environ[\"MKL_VERBOSE\"] = \"1\"\n",
    "os.environ[\"OMP_DISPLAY_ENV\"] = \"TRUE\"\n",
    "os.environ[\"KMP_AFFINITY\"] = \"verbose,granularity=fine,compact,1,0\"\n",
    "os.environ[\"KMP_BLOCKTIME\"] = \"1\"\n",
    "#os.environ[\"OMP_WAIT_POLICY\"] = \"active\"\n",
    "#os.environ[\"KMP_LIBRARY\"] = \"turnaround\"\n",
    "\n"
   ]
  },
  {
   "cell_type": "code",
   "execution_count": 2,
   "id": "5a20732e-6c90-418a-9817-4c1b4e2a2077",
   "metadata": {
    "tags": []
   },
   "outputs": [
    {
     "name": "stderr",
     "output_type": "stream",
     "text": [
      "\n",
      "OPENMP DISPLAY ENVIRONMENT BEGIN\n",
      "  _OPENMP = '201511'\n",
      "  OMP_DYNAMIC = 'FALSE'\n",
      "  OMP_NESTED = 'FALSE'\n",
      "  OMP_NUM_THREADS = '8'\n",
      "  OMP_SCHEDULE = 'DYNAMIC'\n",
      "  OMP_PROC_BIND = 'FALSE'\n",
      "  OMP_PLACES = ''\n",
      "  OMP_STACKSIZE = '23000636197201'\n",
      "  OMP_WAIT_POLICY = 'PASSIVE'\n",
      "  OMP_THREAD_LIMIT = '4294967295'\n",
      "  OMP_MAX_ACTIVE_LEVELS = '2147483647'\n",
      "  OMP_CANCELLATION = 'FALSE'\n",
      "  OMP_DEFAULT_DEVICE = '0'\n",
      "  OMP_MAX_TASK_PRIORITY = '0'\n",
      "OPENMP DISPLAY ENVIRONMENT END\n",
      "\n",
      "OPENMP DISPLAY ENVIRONMENT BEGIN\n",
      "   _OPENMP='201611'\n",
      "  [host] OMP_AFFINITY_FORMAT='OMP: pid %P tid %i thread %n bound to OS proc set {%A}'\n",
      "  [host] OMP_ALLOCATOR='omp_default_mem_alloc'\n",
      "  [host] OMP_CANCELLATION='FALSE'\n",
      "  [host] OMP_DEBUG='disabled'\n",
      "  [host] OMP_DEFAULT_DEVICE='0'\n",
      "  [host] OMP_DISPLAY_AFFINITY='FALSE'\n",
      "  [host] OMP_DISPLAY_ENV='TRUE'\n",
      "  [host] OMP_DYNAMIC='FALSE'\n",
      "  [host] OMP_MAX_ACTIVE_LEVELS='1'\n",
      "  [host] OMP_MAX_TASK_PRIORITY='0'\n",
      "  [host] OMP_NESTED: deprecated; max-active-levels-var=1\n",
      "  [host] OMP_NUM_TEAMS='0'\n",
      "  [host] OMP_NUM_THREADS='8'\n",
      "  [host] OMP_PLACES='threads'\n",
      "  [host] OMP_PROC_BIND='intel'\n",
      "  [host] OMP_SCHEDULE='static'\n",
      "  [host] OMP_STACKSIZE='4M'\n",
      "  [host] OMP_TARGET_OFFLOAD=DEFAULT\n",
      "  [host] OMP_TEAMS_THREAD_LIMIT='0'\n",
      "  [host] OMP_THREAD_LIMIT='2147483647'\n",
      "  [host] OMP_TOOL='enabled'\n",
      "  [host] OMP_TOOL_LIBRARIES: value is not defined\n",
      "  [host] OMP_TOOL_VERBOSE_INIT: value is not defined\n",
      "  [host] OMP_WAIT_POLICY='PASSIVE'\n",
      "OPENMP DISPLAY ENVIRONMENT END\n",
      "\n",
      "\n",
      "OMP: Info #155: KMP_AFFINITY: Initial OS proc set respected: 0-31\n",
      "OMP: Info #217: KMP_AFFINITY: decoding x2APIC ids.\n",
      "OMP: Info #157: KMP_AFFINITY: 32 available OS procs\n",
      "OMP: Info #158: KMP_AFFINITY: Uniform topology\n",
      "OMP: Info #288: KMP_AFFINITY: topology layer \"LL cache\" is equivalent to \"socket\".\n",
      "OMP: Info #288: KMP_AFFINITY: topology layer \"L3 cache\" is equivalent to \"socket\".\n",
      "OMP: Info #288: KMP_AFFINITY: topology layer \"L2 cache\" is equivalent to \"core\".\n",
      "OMP: Info #288: KMP_AFFINITY: topology layer \"L1 cache\" is equivalent to \"core\".\n",
      "OMP: Info #192: KMP_AFFINITY: 2 sockets x 8 cores/socket x 2 threads/core (16 total cores)\n",
      "OMP: Info #219: KMP_AFFINITY: OS proc to physical thread map:\n",
      "OMP: Info #172: KMP_AFFINITY: OS proc 0 maps to socket 0 core 0 thread 0 \n",
      "OMP: Info #172: KMP_AFFINITY: OS proc 16 maps to socket 0 core 0 thread 1 \n",
      "OMP: Info #172: KMP_AFFINITY: OS proc 1 maps to socket 0 core 1 thread 0 \n",
      "OMP: Info #172: KMP_AFFINITY: OS proc 17 maps to socket 0 core 1 thread 1 \n",
      "OMP: Info #172: KMP_AFFINITY: OS proc 2 maps to socket 0 core 2 thread 0 \n",
      "OMP: Info #172: KMP_AFFINITY: OS proc 18 maps to socket 0 core 2 thread 1 \n",
      "OMP: Info #172: KMP_AFFINITY: OS proc 3 maps to socket 0 core 3 thread 0 \n",
      "OMP: Info #172: KMP_AFFINITY: OS proc 19 maps to socket 0 core 3 thread 1 \n",
      "OMP: Info #172: KMP_AFFINITY: OS proc 4 maps to socket 0 core 4 thread 0 \n",
      "OMP: Info #172: KMP_AFFINITY: OS proc 20 maps to socket 0 core 4 thread 1 \n",
      "OMP: Info #172: KMP_AFFINITY: OS proc 5 maps to socket 0 core 5 thread 0 \n",
      "OMP: Info #172: KMP_AFFINITY: OS proc 21 maps to socket 0 core 5 thread 1 \n",
      "OMP: Info #172: KMP_AFFINITY: OS proc 6 maps to socket 0 core 6 thread 0 \n",
      "OMP: Info #172: KMP_AFFINITY: OS proc 22 maps to socket 0 core 6 thread 1 \n",
      "OMP: Info #172: KMP_AFFINITY: OS proc 7 maps to socket 0 core 7 thread 0 \n",
      "OMP: Info #172: KMP_AFFINITY: OS proc 23 maps to socket 0 core 7 thread 1 \n",
      "OMP: Info #172: KMP_AFFINITY: OS proc 8 maps to socket 1 core 0 thread 0 \n",
      "OMP: Info #172: KMP_AFFINITY: OS proc 24 maps to socket 1 core 0 thread 1 \n",
      "OMP: Info #172: KMP_AFFINITY: OS proc 9 maps to socket 1 core 1 thread 0 \n",
      "OMP: Info #172: KMP_AFFINITY: OS proc 25 maps to socket 1 core 1 thread 1 \n",
      "OMP: Info #172: KMP_AFFINITY: OS proc 10 maps to socket 1 core 2 thread 0 \n",
      "OMP: Info #172: KMP_AFFINITY: OS proc 26 maps to socket 1 core 2 thread 1 \n",
      "OMP: Info #172: KMP_AFFINITY: OS proc 11 maps to socket 1 core 3 thread 0 \n",
      "OMP: Info #172: KMP_AFFINITY: OS proc 27 maps to socket 1 core 3 thread 1 \n",
      "OMP: Info #172: KMP_AFFINITY: OS proc 12 maps to socket 1 core 4 thread 0 \n",
      "OMP: Info #172: KMP_AFFINITY: OS proc 28 maps to socket 1 core 4 thread 1 \n",
      "OMP: Info #172: KMP_AFFINITY: OS proc 13 maps to socket 1 core 5 thread 0 \n",
      "OMP: Info #172: KMP_AFFINITY: OS proc 29 maps to socket 1 core 5 thread 1 \n",
      "OMP: Info #172: KMP_AFFINITY: OS proc 14 maps to socket 1 core 6 thread 0 \n",
      "OMP: Info #172: KMP_AFFINITY: OS proc 30 maps to socket 1 core 6 thread 1 \n",
      "OMP: Info #172: KMP_AFFINITY: OS proc 15 maps to socket 1 core 7 thread 0 \n",
      "OMP: Info #172: KMP_AFFINITY: OS proc 31 maps to socket 1 core 7 thread 1 \n",
      "OMP: Info #255: KMP_AFFINITY: pid 659885 tid 659885 thread 0 bound to OS proc set 0\n"
     ]
    },
    {
     "name": "stdout",
     "output_type": "stream",
     "text": [
      "2.0.0+cpu\n"
     ]
    }
   ],
   "source": [
    "import numpy as np\n",
    "import torch\n",
    "import torch.nn as nn\n",
    "from torchvision import datasets\n",
    "from torchvision import transforms\n",
    "from torchvision import models\n",
    "from torch.utils.data.sampler import SubsetRandomSampler\n",
    "\n",
    "print(torch.__version__)"
   ]
  },
  {
   "cell_type": "code",
   "execution_count": 3,
   "id": "0f92994f-ffe8-4e80-9c46-8963aade1246",
   "metadata": {
    "tags": []
   },
   "outputs": [],
   "source": [
    "def data_loader(data_dir, batch_size, random_seed=42, valid_size=0.1, shuffle=True, test=False):\n",
    "\n",
    "    transform = transforms.Compose([transforms.ToTensor()])\n",
    "    \n",
    "    if test:\n",
    "        dataset = datasets.FashionMNIST(root=data_dir, train=False, download=True, transform=transform)\n",
    "        data_loader = torch.utils.data.DataLoader(dataset, batch_size=batch_size, shuffle=shuffle)\n",
    "        return data_loader\n",
    "\n",
    "    # load the dataset\n",
    "    train_dataset = datasets.FashionMNIST(root=data_dir, train=True, download=True, transform=transform)\n",
    "    valid_dataset = datasets.FashionMNIST(root=data_dir, train=True, download=True, transform=transform)\n",
    "\n",
    "    num_train = len(train_dataset)\n",
    "    indices = list(range(num_train))\n",
    "    split = int(np.floor(valid_size * num_train))\n",
    "\n",
    "    if shuffle:\n",
    "        np.random.seed(random_seed)\n",
    "        np.random.shuffle(indices)\n",
    "\n",
    "    train_idx, valid_idx = indices[split:], indices[:split]\n",
    "    train_sampler = SubsetRandomSampler(train_idx)\n",
    "    valid_sampler = SubsetRandomSampler(valid_idx)\n",
    "\n",
    "    train_loader = torch.utils.data.DataLoader(train_dataset, batch_size=batch_size, sampler=train_sampler)\n",
    " \n",
    "    valid_loader = torch.utils.data.DataLoader(valid_dataset, batch_size=batch_size, sampler=valid_sampler)\n",
    "\n",
    "    return (train_loader, valid_loader)"
   ]
  },
  {
   "cell_type": "code",
   "execution_count": 4,
   "id": "29340fa1-5e8b-44b0-92f3-056845c07a0a",
   "metadata": {
    "tags": []
   },
   "outputs": [],
   "source": [
    "class CNN(nn.Module):\n",
    "    def __init__(self, num_classes=10):\n",
    "        super(CNN, self).__init__()\n",
    "        self.layer1 = nn.Sequential(\n",
    "            nn.Conv2d(1, 32, kernel_size=3, stride=1, padding=1),\n",
    "            nn.BatchNorm2d(32),\n",
    "            nn.ReLU(),\n",
    "            nn.MaxPool2d(kernel_size = 2, stride = 2))\n",
    "        \n",
    "        self.layer2 = nn.Sequential(\n",
    "            nn.Conv2d(32, 64, kernel_size=3, stride=1, padding=1),\n",
    "            nn.BatchNorm2d(64),\n",
    "            nn.ReLU(),\n",
    "            nn.MaxPool2d(kernel_size = 2, stride = 2))\n",
    "        \n",
    "        self.fc1 = nn.Sequential(\n",
    "            nn.Linear(64*7*7, 512),\n",
    "            nn.Dropout(0.25))\n",
    "        \n",
    "        self.fc2 = nn.Linear(512, num_classes)\n",
    "        \n",
    "    def forward(self, x):\n",
    "        out = self.layer1(x)\n",
    "        out = self.layer2(out)\n",
    "        out = out.reshape(out.size(0), -1)\n",
    "        out = self.fc1(out)\n",
    "        out = self.fc2(out)\n",
    "        return out"
   ]
  },
  {
   "cell_type": "code",
   "execution_count": 5,
   "id": "76056f95-3978-44e4-94a0-a9c4c7ee21fc",
   "metadata": {
    "tags": []
   },
   "outputs": [
    {
     "name": "stderr",
     "output_type": "stream",
     "text": [
      "OMP: Info #255: KMP_AFFINITY: pid 659885 tid 659941 thread 1 bound to OS proc set 1\n",
      "OMP: Info #255: KMP_AFFINITY: pid 659885 tid 659942 thread 2 bound to OS proc set 2\n",
      "OMP: Info #255: KMP_AFFINITY: pid 659885 tid 659943 thread 3 bound to OS proc set 3\n",
      "OMP: Info #255: KMP_AFFINITY: pid 659885 tid 659944 thread 4 bound to OS proc set 4\n",
      "OMP: Info #255: KMP_AFFINITY: pid 659885 tid 659945 thread 5 bound to OS proc set 5\n",
      "OMP: Info #255: KMP_AFFINITY: pid 659885 tid 659946 thread 6 bound to OS proc set 6\n",
      "OMP: Info #255: KMP_AFFINITY: pid 659885 tid 659947 thread 7 bound to OS proc set 7\n"
     ]
    }
   ],
   "source": [
    "#optimizer = torch.optim.Adam\n",
    "max_lr = 0.00001\n",
    "grad_clip = 0.1\n",
    "weight_decay = 0.005\n",
    "\n",
    "# Device configuration\n",
    "device = 'cpu'\n",
    "num_classes = 10\n",
    "num_epochs = 5\n",
    "batch_size = 64\n",
    "learning_rate = 0.0001\n",
    "\n",
    "# CIFAR10 dataset \n",
    "train_loader, valid_loader = data_loader(data_dir='./data', batch_size=batch_size)\n",
    "test_loader = data_loader(data_dir='./data', batch_size=batch_size, test=True)\n",
    "\n",
    "#model = VGG_test(num_classes).to(device)\n",
    "model = CNN(num_classes).to(device)\n",
    "\n",
    "# Loss and optimizer\n",
    "criterion = nn.CrossEntropyLoss()\n",
    "#scheduler = torch.optim.lr_scheduler.OneCycleLR\n",
    "#optimizer = torch.optim.SGD(model.parameters(), lr=learning_rate, weight_decay = 0.005, momentum = 0.9)\n",
    "optimizer = torch.optim.Adam(model.parameters(), max_lr, weight_decay=weight_decay)\n",
    "#scheduler = scheduler(optimizer, max_lr, epochs=num_epochs, steps_per_epoch=len(train_loader))\n",
    "\n",
    "for (images, _) in train_loader:\n",
    "    model(images)"
   ]
  },
  {
   "cell_type": "code",
   "execution_count": 6,
   "id": "db1b0241-6c87-40cf-8e55-d8cddf5cc71e",
   "metadata": {
    "tags": []
   },
   "outputs": [
    {
     "name": "stdout",
     "output_type": "stream",
     "text": [
      "Epoch [1/5], Step [844/844], Loss: 0.4573\n",
      "Accuracy of the network on the 5000 validation images: 83.92 %\n",
      "Epoch [2/5], Step [844/844], Loss: 0.3681\n",
      "Accuracy of the network on the 5000 validation images: 86.35 %\n",
      "Epoch [3/5], Step [844/844], Loss: 0.3125\n",
      "Accuracy of the network on the 5000 validation images: 87.37 %\n",
      "Epoch [4/5], Step [844/844], Loss: 0.3913\n",
      "Accuracy of the network on the 5000 validation images: 88.18 %\n",
      "Epoch [5/5], Step [844/844], Loss: 0.3661\n",
      "Accuracy of the network on the 5000 validation images: 88.45 %\n",
      "CPU times: user 7min 23s, sys: 1min 1s, total: 8min 25s\n",
      "Wall time: 1min 18s\n"
     ]
    }
   ],
   "source": [
    "%%time\n",
    "# Train the model\n",
    "total_step = len(train_loader)\n",
    "\n",
    "for epoch in range(num_epochs):\n",
    "    for i, (images, labels) in enumerate(train_loader):  \n",
    "        # Move tensors to the configured device\n",
    "        images = images.to(device)\n",
    "        labels = labels.to(device)\n",
    "        \n",
    "        # Forward pass\n",
    "        outputs = model(images)\n",
    "        loss = criterion(outputs, labels)\n",
    "        \n",
    "        # Backward and optimize\n",
    "        optimizer.zero_grad()\n",
    "        loss.backward()\n",
    "        optimizer.step()\n",
    "       \n",
    "    print ('Epoch [{}/{}], Step [{}/{}], Loss: {:.4f}'.format(epoch+1, num_epochs, i+1, total_step, loss.item()))\n",
    "            \n",
    "    # Validation\n",
    "    with torch.no_grad():\n",
    "        correct = 0\n",
    "        total = 0\n",
    "        for images, labels in valid_loader:\n",
    "            images = images.to(device)\n",
    "            labels = labels.to(device)\n",
    "            outputs = model(images)\n",
    "            _, predicted = torch.max(outputs.data, 1)\n",
    "            total += labels.size(0)\n",
    "            correct += (predicted == labels).sum().item()\n",
    "            del images, labels, outputs\n",
    "    \n",
    "        print('Accuracy of the network on the {} validation images: {:.2f} %'.format(5000, 100 * correct / total)) "
   ]
  },
  {
   "cell_type": "code",
   "execution_count": 7,
   "id": "8d31821b-4d3b-4e88-aa48-139b8e7c255a",
   "metadata": {
    "tags": []
   },
   "outputs": [
    {
     "name": "stdout",
     "output_type": "stream",
     "text": [
      "Accuracy of the network on the 10000 test images: 87.52 %\n"
     ]
    }
   ],
   "source": [
    "with torch.no_grad():\n",
    "    correct = 0\n",
    "    total = 0\n",
    "    for images, labels in test_loader:\n",
    "        images = images.to(device)\n",
    "        labels = labels.to(device)\n",
    "        outputs = model(images)\n",
    "        _, predicted = torch.max(outputs.data, 1)\n",
    "        total += labels.size(0)\n",
    "        correct += (predicted == labels).sum().item()\n",
    "        del images, labels, outputs\n",
    "\n",
    "    print('Accuracy of the network on the {} test images: {} %'.format(10000, 100 * correct / total))   "
   ]
  },
  {
   "cell_type": "code",
   "execution_count": null,
   "id": "51f482c4-b2cc-4fa2-a721-9363089d8b43",
   "metadata": {},
   "outputs": [],
   "source": []
  }
 ],
 "metadata": {
  "kernelspec": {
   "display_name": "Python 3 (ipykernel)",
   "language": "python",
   "name": "python3"
  },
  "language_info": {
   "codemirror_mode": {
    "name": "ipython",
    "version": 3
   },
   "file_extension": ".py",
   "mimetype": "text/x-python",
   "name": "python",
   "nbconvert_exporter": "python",
   "pygments_lexer": "ipython3",
   "version": "3.10.8"
  }
 },
 "nbformat": 4,
 "nbformat_minor": 5
}
