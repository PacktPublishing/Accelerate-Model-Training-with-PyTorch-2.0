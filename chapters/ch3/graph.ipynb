{
 "cells": [
  {
   "cell_type": "code",
   "execution_count": 1,
   "id": "5a20732e-6c90-418a-9817-4c1b4e2a2077",
   "metadata": {
    "id": "5a20732e-6c90-418a-9817-4c1b4e2a2077",
    "tags": []
   },
   "outputs": [],
   "source": [
    "import logging\n",
    "import torch\n",
    "import torch._dynamo\n",
    "import torch._inductor\n",
    "import torch.nn as nn\n",
    "from torch.profiler import profile, record_function, ProfilerActivity"
   ]
  },
  {
   "cell_type": "code",
   "execution_count": 2,
   "id": "8aa4d7ca-8a34-42f0-b16c-761cf307d297",
   "metadata": {},
   "outputs": [],
   "source": [
    "import os\n",
    "#os.environ['TORCH_COMPILE_DEBUG'] = \"1\"\n",
    "#torch._dynamo.config.log_level = logging.DEBUG\n",
    "#torch._dynamo.config.verbose = True\n",
    "#torch._dynamo.config.log_level = logging.INFO\n",
    "#torch._dynamo.config.output_code = True\n",
    "torch._dynamo.config.cache_size_limit = 1\n",
    "torch.set_default_device('cuda')"
   ]
  },
  {
   "cell_type": "code",
   "execution_count": 3,
   "id": "32bb759f-34f7-4a90-a709-d129dd4bf8a5",
   "metadata": {},
   "outputs": [],
   "source": [
    "from typing import List\n",
    "import tabulate\n",
    "def custom_backend(gm: torch.fx.GraphModule, example_inputs: List[torch.Tensor]):\n",
    "    print(\"custom backend called with FX graph:\")\n",
    "    gm.graph.print_tabular()\n",
    "    #print(gm.code)\n",
    "    return gm.forward"
   ]
  },
  {
   "cell_type": "code",
   "execution_count": 13,
   "id": "d_gHdGv84ocR",
   "metadata": {
    "id": "d_gHdGv84ocR",
    "tags": []
   },
   "outputs": [],
   "source": [
    "class SingleConvLayer(nn.Module):\n",
    "    def __init__(self):\n",
    "        super().__init__()\n",
    "        self.conv = nn.Conv2d(3, 32, kernel_size=3, stride=1, padding=1)\n",
    "        self.batch = nn.BatchNorm2d(num_features=32)\n",
    "        self.relu = nn.ReLU()\n",
    "        self.max_pool = nn.MaxPool2d(kernel_size=2, stride=2)\n",
    "\n",
    "    def forward(self, input):\n",
    "        out = self.conv(input)\n",
    "        out = self.batch(out)\n",
    "        out = self.relu(out)\n",
    "        out = self.max_pool(out)\n",
    "        return out"
   ]
  },
  {
   "cell_type": "code",
   "execution_count": 14,
   "id": "76056f95-3978-44e4-94a0-a9c4c7ee21fc",
   "metadata": {
    "id": "76056f95-3978-44e4-94a0-a9c4c7ee21fc",
    "tags": []
   },
   "outputs": [],
   "source": [
    "data = torch.rand(2048, 3, 32, 32)"
   ]
  },
  {
   "cell_type": "code",
   "execution_count": 19,
   "id": "ba62c1d1-68de-4f1b-9556-77773a676a0d",
   "metadata": {},
   "outputs": [],
   "source": [
    "eager_model = SingleConvLayer()\n",
    "\n",
    "torch._dynamo.reset()\n",
    "#graph_model = torch.compile(CNN(), backend=\"inductor\", fullgraph=True)\n",
    "graph_model = torch.compile(SingleConvLayer(), backend=\"inductor\", fullgraph=True)"
   ]
  },
  {
   "cell_type": "code",
   "execution_count": 20,
   "id": "e5fc2d49-338b-4205-9a1b-6644348ac2c5",
   "metadata": {},
   "outputs": [
    {
     "name": "stderr",
     "output_type": "stream",
     "text": [
      "STAGE:2023-05-30 13:19:09 3433778:3433778 ActivityProfilerController.cpp:311] Completed Stage: Warm Up\n"
     ]
    },
    {
     "name": "stdout",
     "output_type": "stream",
     "text": [
      "-------------------------------------------------------  ------------  ------------  ------------  ------------  ------------  ------------  ------------  ------------  ------------  ------------  \n",
      "                                                   Name    Self CPU %      Self CPU   CPU total %     CPU total  CPU time avg     Self CUDA   Self CUDA %    CUDA total  CUDA time avg    # of Calls  \n",
      "-------------------------------------------------------  ------------  ------------  ------------  ------------  ------------  ------------  ------------  ------------  ------------  ------------  \n",
      "            cudnn_ampere_scudnn_128x32_relu_small_nn_v1         0.00%       0.000us         0.00%       0.000us       0.000us     401.000us        19.54%     401.000us     401.000us             1  \n",
      "                                      triton__0d1d2d3d4         0.00%       0.000us         0.00%       0.000us       0.000us     349.000us        17.01%     349.000us     349.000us             1  \n",
      "                                         triton__0d1d2d         0.00%       0.000us         0.00%       0.000us       0.000us     316.000us        15.40%     316.000us     316.000us             1  \n",
      "                                 triton__0d1d2d3d4d5d6d         0.00%       0.000us         0.00%       0.000us       0.000us     296.000us        14.42%     296.000us     296.000us             1  \n",
      "                                       triton__0d1d2d3d         0.00%       0.000us         0.00%       0.000us       0.000us     272.000us        13.26%     272.000us     272.000us             1  \n",
      "                                        triton__0d1d2d3         0.00%       0.000us         0.00%       0.000us       0.000us     252.000us        12.28%     252.000us     252.000us             1  \n",
      "void at::native::vectorized_elementwise_kernel<4, at...         0.00%       0.000us         0.00%       0.000us       0.000us     129.000us         6.29%     129.000us       3.071us            42  \n",
      "                         Memcpy DtoD (Device -> Device)         0.00%       0.000us         0.00%       0.000us       0.000us      12.000us         0.58%      12.000us       4.000us             3  \n",
      "void at::native::vectorized_elementwise_kernel<4, at...         0.00%       0.000us         0.00%       0.000us       0.000us       6.000us         0.29%       6.000us       3.000us             2  \n",
      "void cask_cudnn::computeOffsetsKernel<false, false>(...         0.00%       0.000us         0.00%       0.000us       0.000us       5.000us         0.24%       5.000us       5.000us             1  \n",
      "-------------------------------------------------------  ------------  ------------  ------------  ------------  ------------  ------------  ------------  ------------  ------------  ------------  \n",
      "Self CPU time total: 2.290ms\n",
      "Self CUDA time total: 2.052ms\n",
      "\n"
     ]
    },
    {
     "name": "stderr",
     "output_type": "stream",
     "text": [
      "STAGE:2023-05-30 13:19:09 3433778:3433778 ActivityProfilerController.cpp:317] Completed Stage: Collection\n",
      "STAGE:2023-05-30 13:19:09 3433778:3433778 ActivityProfilerController.cpp:321] Completed Stage: Post Processing\n"
     ]
    }
   ],
   "source": [
    "prof = profile(activities=[ProfilerActivity.CUDA])\n",
    "\n",
    "prof.start()\n",
    "graph_model(data)\n",
    "#eager_model(data)\n",
    "prof.stop()\n",
    "\n",
    "print(prof.key_averages().table(sort_by=\"self_cuda_time_total\", row_limit=10))"
   ]
  },
  {
   "cell_type": "code",
   "execution_count": 8,
   "id": "5d2a2b95-13de-4560-a720-88dab33d6af5",
   "metadata": {},
   "outputs": [
    {
     "name": "stdout",
     "output_type": "stream",
     "text": [
      "Dynamo produced 1 graphs with 0 graph break and 0 ops\n",
      " Break reasons: \n",
      "\n",
      "1. return_value\n",
      "  File \"/tmp/ipykernel_3433778/2101468636.py\", line 14, in forward\n",
      "    return out\n",
      " \n",
      "TorchDynamo compilation metrics:\n",
      "Function                          Runtimes (s)\n",
      "------------------------------  --------------\n",
      "_compile                                0.0221\n",
      "OutputGraph.call_user_compiler          0\n"
     ]
    }
   ],
   "source": [
    "explanation, out_guards, graphs, ops_per_graph, break_reasons, explanation_verbose = torch._dynamo.explain(\n",
    "    graph_model, data)\n",
    "print(explanation_verbose)"
   ]
  },
  {
   "cell_type": "code",
   "execution_count": 9,
   "id": "e794d3a5-5955-4657-b191-b4b2c2b71b8b",
   "metadata": {
    "id": "e794d3a5-5955-4657-b191-b4b2c2b71b8b",
    "tags": []
   },
   "outputs": [
    {
     "name": "stdout",
     "output_type": "stream",
     "text": [
      "[GraphModule(\n",
      "  (self_conv): Conv2d(3, 32, kernel_size=(3, 3), stride=(1, 1), padding=(1, 1))\n",
      "  (self_batch): BatchNorm2d(32, eps=1e-05, momentum=0.1, affine=True, track_running_stats=True)\n",
      "  (self_relu): ReLU()\n",
      "  (self_max_pool): MaxPool2d(kernel_size=2, stride=2, padding=0, dilation=1, ceil_mode=False)\n",
      ")]\n"
     ]
    }
   ],
   "source": [
    "print(graphs)"
   ]
  },
  {
   "cell_type": "code",
   "execution_count": null,
   "id": "32614736-498a-423a-a757-630299962db1",
   "metadata": {},
   "outputs": [],
   "source": []
  }
 ],
 "metadata": {
  "colab": {
   "provenance": []
  },
  "kernelspec": {
   "display_name": "Python 3 (ipykernel)",
   "language": "python",
   "name": "python3"
  },
  "language_info": {
   "codemirror_mode": {
    "name": "ipython",
    "version": 3
   },
   "file_extension": ".py",
   "mimetype": "text/x-python",
   "name": "python",
   "nbconvert_exporter": "python",
   "pygments_lexer": "ipython3",
   "version": "3.10.10"
  }
 },
 "nbformat": 4,
 "nbformat_minor": 5
}
