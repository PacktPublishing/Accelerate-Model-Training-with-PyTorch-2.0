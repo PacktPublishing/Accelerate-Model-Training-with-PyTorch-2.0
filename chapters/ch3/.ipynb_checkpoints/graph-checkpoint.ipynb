{
 "cells": [
  {
   "cell_type": "code",
   "execution_count": 1,
   "id": "5a20732e-6c90-418a-9817-4c1b4e2a2077",
   "metadata": {
    "id": "5a20732e-6c90-418a-9817-4c1b4e2a2077",
    "tags": []
   },
   "outputs": [],
   "source": [
    "import logging\n",
    "import torch\n",
    "import torch._dynamo\n",
    "import torch._inductor\n",
    "import torch.nn as nn\n",
    "from torch.profiler import profile, record_function, ProfilerActivity"
   ]
  },
  {
   "cell_type": "code",
   "execution_count": 2,
   "id": "8aa4d7ca-8a34-42f0-b16c-761cf307d297",
   "metadata": {},
   "outputs": [],
   "source": [
    "import os\n",
    "#os.environ['TORCH_COMPILE_DEBUG'] = \"1\"\n",
    "#torch._dynamo.config.log_level = logging.DEBUG\n",
    "#torch._dynamo.config.verbose = True\n",
    "#torch._dynamo.config.log_level = logging.INFO\n",
    "#torch._dynamo.config.output_code = True\n",
    "torch._dynamo.config.cache_size_limit = 1\n",
    "torch.set_default_device('cuda')"
   ]
  },
  {
   "cell_type": "code",
   "execution_count": 3,
   "id": "32bb759f-34f7-4a90-a709-d129dd4bf8a5",
   "metadata": {},
   "outputs": [],
   "source": [
    "from typing import List\n",
    "import tabulate\n",
    "def custom_backend(gm: torch.fx.GraphModule, example_inputs: List[torch.Tensor]):\n",
    "    print(\"custom backend called with FX graph:\")\n",
    "    gm.graph.print_tabular()\n",
    "    #print(gm.code)\n",
    "    return gm.forward"
   ]
  },
  {
   "cell_type": "code",
   "execution_count": 4,
   "id": "d_gHdGv84ocR",
   "metadata": {
    "id": "d_gHdGv84ocR",
    "tags": []
   },
   "outputs": [],
   "source": [
    "class SingleConvLayer(nn.Module):\n",
    "    def __init__(self):\n",
    "        super().__init__()\n",
    "        self.conv = nn.Conv2d(3, 32, kernel_size=3, stride=1, padding=1)\n",
    "        self.batch = nn.BatchNorm2d(num_features=32)\n",
    "        self.relu = nn.ReLU()\n",
    "        self.max_pool = nn.MaxPool2d(kernel_size=2, stride=2)\n",
    "\n",
    "    def forward(self, input):\n",
    "        out = self.conv(input)\n",
    "        out = self.batch(out)\n",
    "        out = self.relu(out)\n",
    "        out = self.max_pool(out)\n",
    "        return out"
   ]
  },
  {
   "cell_type": "code",
   "execution_count": 5,
   "id": "76056f95-3978-44e4-94a0-a9c4c7ee21fc",
   "metadata": {
    "id": "76056f95-3978-44e4-94a0-a9c4c7ee21fc",
    "tags": []
   },
   "outputs": [],
   "source": [
    "data = torch.rand(2048, 3, 32, 32)"
   ]
  },
  {
   "cell_type": "code",
   "execution_count": 11,
   "id": "ba62c1d1-68de-4f1b-9556-77773a676a0d",
   "metadata": {},
   "outputs": [],
   "source": [
    "eager_model = SingleConvLayer()\n",
    "\n",
    "torch._dynamo.reset()\n",
    "#graph_model = torch.compile(CNN(), backend=\"inductor\", fullgraph=True)\n",
    "graph_model = torch.compile(SingleConvLayer(), backend=\"inductor\", fullgraph=True)"
   ]
  },
  {
   "cell_type": "code",
   "execution_count": 12,
   "id": "e5fc2d49-338b-4205-9a1b-6644348ac2c5",
   "metadata": {},
   "outputs": [
    {
     "name": "stdout",
     "output_type": "stream",
     "text": [
      "------------------------------------  ------------  ------------  ------------  ------------  ------------  ------------  \n",
      "                                Name    Self CPU %      Self CPU   CPU total %     CPU total  CPU time avg    # of Calls  \n",
      "------------------------------------  ------------  ------------  ------------  ------------  ------------  ------------  \n",
      "             aten::cudnn_convolution        63.48%     838.000us        68.56%     905.000us     905.000us             1  \n",
      "                    cudaLaunchKernel         8.86%     117.000us         8.86%     117.000us      16.714us             7  \n",
      "              aten::cudnn_batch_norm         5.45%      72.000us         8.56%     113.000us     113.000us             1  \n",
      "                          aten::add_         4.77%      63.000us         6.67%      88.000us      44.000us             2  \n",
      "                   aten::convolution         3.33%      44.000us        80.98%       1.069ms       1.069ms             1  \n",
      "                  aten::_convolution         2.73%      36.000us        77.65%       1.025ms       1.025ms             1  \n",
      "       aten::max_pool2d_with_indices         2.35%      31.000us         3.03%      40.000us      40.000us             1  \n",
      "                         aten::empty         1.44%      19.000us         1.44%      19.000us       3.800us             5  \n",
      "                     aten::clamp_min         1.44%      19.000us         2.12%      28.000us      28.000us             1  \n",
      "                       aten::reshape         1.36%      18.000us         1.74%      23.000us      23.000us             1  \n",
      "------------------------------------  ------------  ------------  ------------  ------------  ------------  ------------  \n",
      "Self CPU time total: 1.320ms\n",
      "\n"
     ]
    },
    {
     "name": "stderr",
     "output_type": "stream",
     "text": [
      "STAGE:2023-05-29 18:47:21 3288474:3288474 ActivityProfilerController.cpp:311] Completed Stage: Warm Up\n",
      "STAGE:2023-05-29 18:47:21 3288474:3288474 ActivityProfilerController.cpp:317] Completed Stage: Collection\n",
      "STAGE:2023-05-29 18:47:21 3288474:3288474 ActivityProfilerController.cpp:321] Completed Stage: Post Processing\n"
     ]
    }
   ],
   "source": [
    "prof = profile(activities=[ProfilerActivity.CPU])\n",
    "\n",
    "prof.start()\n",
    "#graph_model(data)\n",
    "eager_model(data)\n",
    "prof.stop()\n",
    "\n",
    "print(prof.key_averages().table(sort_by=\"self_cpu_time_total\", row_limit=10))"
   ]
  },
  {
   "cell_type": "code",
   "execution_count": 9,
   "id": "5d2a2b95-13de-4560-a720-88dab33d6af5",
   "metadata": {},
   "outputs": [
    {
     "name": "stdout",
     "output_type": "stream",
     "text": [
      "Dynamo produced 1 graphs with 0 graph break and 0 ops\n",
      " Break reasons: \n",
      "\n",
      "1. return_value\n",
      "  File \"/tmp/ipykernel_3288474/2101468636.py\", line 14, in forward\n",
      "    return out\n",
      " \n",
      "TorchDynamo compilation metrics:\n",
      "Function                          Runtimes (s)\n",
      "------------------------------  --------------\n",
      "_compile                                0.0228\n",
      "OutputGraph.call_user_compiler          0\n"
     ]
    }
   ],
   "source": [
    "explanation, out_guards, graphs, ops_per_graph, break_reasons, explanation_verbose = torch._dynamo.explain(\n",
    "    graph_model, data)\n",
    "print(explanation_verbose)"
   ]
  },
  {
   "cell_type": "code",
   "execution_count": 10,
   "id": "e794d3a5-5955-4657-b191-b4b2c2b71b8b",
   "metadata": {
    "id": "e794d3a5-5955-4657-b191-b4b2c2b71b8b",
    "tags": []
   },
   "outputs": [
    {
     "name": "stdout",
     "output_type": "stream",
     "text": [
      "[GraphModule(\n",
      "  (self_conv): Conv2d(3, 32, kernel_size=(3, 3), stride=(1, 1), padding=(1, 1))\n",
      "  (self_batch): BatchNorm2d(32, eps=1e-05, momentum=0.1, affine=True, track_running_stats=True)\n",
      "  (self_relu): ReLU()\n",
      "  (self_max_pool): MaxPool2d(kernel_size=2, stride=2, padding=0, dilation=1, ceil_mode=False)\n",
      ")]\n"
     ]
    }
   ],
   "source": [
    "print(graphs)"
   ]
  },
  {
   "cell_type": "code",
   "execution_count": null,
   "id": "32614736-498a-423a-a757-630299962db1",
   "metadata": {},
   "outputs": [],
   "source": []
  }
 ],
 "metadata": {
  "colab": {
   "provenance": []
  },
  "kernelspec": {
   "display_name": "Python 3 (ipykernel)",
   "language": "python",
   "name": "python3"
  },
  "language_info": {
   "codemirror_mode": {
    "name": "ipython",
    "version": 3
   },
   "file_extension": ".py",
   "mimetype": "text/x-python",
   "name": "python",
   "nbconvert_exporter": "python",
   "pygments_lexer": "ipython3",
   "version": "3.10.10"
  }
 },
 "nbformat": 4,
 "nbformat_minor": 5
}
