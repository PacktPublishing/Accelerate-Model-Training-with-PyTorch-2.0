{
 "cells": [
  {
   "cell_type": "code",
   "execution_count": 22,
   "id": "5a20732e-6c90-418a-9817-4c1b4e2a2077",
   "metadata": {
    "tags": []
   },
   "outputs": [],
   "source": [
    "import numpy as np\n",
    "import torch\n",
    "import torch.nn as nn"
   ]
  },
  {
   "cell_type": "code",
   "execution_count": 33,
   "id": "31d88a42-e5be-4438-bcd6-d40234217b87",
   "metadata": {
    "tags": []
   },
   "outputs": [],
   "source": [
    "class SimpleNet(nn.Module):\n",
    "    def __init__(self):\n",
    "        super(SimpleNet, self).__init__()\n",
    "        self.layer1 = nn.Linear(2, 2)\n",
    "        self.layer2 = nn.Linear(2, 1)\n",
    "        self.sigmoid = nn.Sigmoid()\n",
    "        \n",
    "    def forward(self, x):\n",
    "        out = self.layer1(x)\n",
    "        #out = self.sigmoid(out)\n",
    "        out = self.layer2(out)\n",
    "        #out = self.sigmoid(out)\n",
    "        return out"
   ]
  },
  {
   "cell_type": "code",
   "execution_count": 50,
   "id": "4723539f-bcbc-4f2f-8582-3b891b262d89",
   "metadata": {
    "tags": []
   },
   "outputs": [],
   "source": [
    "x = torch.rand(50,200,2)\n",
    "y = torch.rand(50,200,1)\n",
    "\n",
    "dataset = list(zip(x, y))"
   ]
  },
  {
   "cell_type": "code",
   "execution_count": 53,
   "id": "76056f95-3978-44e4-94a0-a9c4c7ee21fc",
   "metadata": {
    "tags": []
   },
   "outputs": [],
   "source": [
    "# Hyperparameters\n",
    "learning_rate = 0.0001\n",
    "num_epochs = 100\n",
    "criterion = nn.MSELoss()\n",
    "optimizer = torch.optim.SGD\n",
    "\n",
    "# Model definition\n",
    "model = SimpleNet()\n",
    "\n",
    "# Optimizer\n",
    "optimizer = optimizer(model.parameters(), lr=learning_rate)"
   ]
  },
  {
   "cell_type": "code",
   "execution_count": 57,
   "id": "db1b0241-6c87-40cf-8e55-d8cddf5cc71e",
   "metadata": {
    "tags": []
   },
   "outputs": [
    {
     "name": "stdout",
     "output_type": "stream",
     "text": [
      "Epoch [1000/1000], Loss: 0.0850\n",
      "CPU times: user 51.4 s, sys: 844 ms, total: 52.2 s\n",
      "Wall time: 8.72 s\n"
     ]
    }
   ],
   "source": [
    "%%time\n",
    "for epoch in range(num_epochs):\n",
    "    for i, sample in enumerate(dataset):\n",
    "        # Forward\n",
    "        x, y = sample\n",
    "        output = model(x)\n",
    "        loss = criterion(output, y)\n",
    "        \n",
    "        # Backward and optimize\n",
    "        optimizer.zero_grad()\n",
    "        loss.backward()\n",
    "        optimizer.step()\n",
    "        #print(\"Step {}: loss {:.4f}\".format(i, loss.item()))\n",
    "\n",
    "print ('Epoch [{}/{}], Loss: {:.4f}'.format(epoch+1, num_epochs, loss.item()))         "
   ]
  },
  {
   "cell_type": "code",
   "execution_count": null,
   "id": "839ab1b0-f7d7-4c21-acd2-be4e92f78fca",
   "metadata": {},
   "outputs": [],
   "source": []
  },
  {
   "cell_type": "code",
   "execution_count": null,
   "id": "12a83396-68d2-455b-9f28-12d78a884899",
   "metadata": {},
   "outputs": [],
   "source": []
  },
  {
   "cell_type": "code",
   "execution_count": null,
   "id": "3da77517-fd75-499f-9965-85ebfbdfc25c",
   "metadata": {},
   "outputs": [],
   "source": []
  }
 ],
 "metadata": {
  "kernelspec": {
   "display_name": "Python 3 (ipykernel)",
   "language": "python",
   "name": "python3"
  },
  "language_info": {
   "codemirror_mode": {
    "name": "ipython",
    "version": 3
   },
   "file_extension": ".py",
   "mimetype": "text/x-python",
   "name": "python",
   "nbconvert_exporter": "python",
   "pygments_lexer": "ipython3",
   "version": "3.10.8"
  }
 },
 "nbformat": 4,
 "nbformat_minor": 5
}
