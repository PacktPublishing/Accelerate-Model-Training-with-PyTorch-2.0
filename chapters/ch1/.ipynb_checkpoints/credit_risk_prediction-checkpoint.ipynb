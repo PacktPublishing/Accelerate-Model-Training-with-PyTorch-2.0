{
 "cells": [
  {
   "cell_type": "code",
   "execution_count": 44,
   "id": "5a20732e-6c90-418a-9817-4c1b4e2a2077",
   "metadata": {
    "tags": []
   },
   "outputs": [],
   "source": [
    "import torch\n",
    "import torch.nn as nn\n",
    "import torch.utils.data as data_utils\n",
    "import numpy as np\n",
    "import pandas as pd"
   ]
  },
  {
   "cell_type": "code",
   "execution_count": 45,
   "id": "4723539f-bcbc-4f2f-8582-3b891b262d89",
   "metadata": {
    "tags": []
   },
   "outputs": [],
   "source": [
    "df = pd.read_csv(\"credit_risk_dataset.csv\")\n",
    "df = df.dropna()\n",
    "\n",
    "#x = df[['person_age', 'person_income', 'person_emp_length']].values\n",
    "x = df[['person_emp_length']].values\n",
    "y = df[['loan_status']].values\n",
    "\n",
    "x = torch.tensor(x,dtype=torch.float32)\n",
    "y = torch.tensor(y,dtype=torch.float32)\n",
    "\n",
    "dataset = data_utils.TensorDataset(x, y)\n",
    "train_size = int(len(dataset)*0.8)\n",
    "test_size = len(dataset) - train_size\n",
    "train_set, test_set = data_utils.random_split(dataset, [train_size, test_size])\n",
    "\n",
    "train_loader = data_utils.DataLoader(train_set, batch_size=32, shuffle=True)\n",
    "test_loader = data_utils.DataLoader(test_set, shuffle=False)"
   ]
  },
  {
   "cell_type": "code",
   "execution_count": 46,
   "id": "31d88a42-e5be-4438-bcd6-d40234217b87",
   "metadata": {
    "tags": []
   },
   "outputs": [],
   "source": [
    "class SimpleNet(nn.Module):\n",
    "    def __init__(self, input_size):\n",
    "        super(SimpleNet, self).__init__()\n",
    "        self.layer1 = nn.Linear(input_size, 10)\n",
    "        self.layer2 = nn.Linear(10, 5)\n",
    "        self.layer3 = nn.Linear(5, 1)\n",
    "        self.sigmoid = nn.Sigmoid()\n",
    "        \n",
    "    def forward(self, x):\n",
    "        out = self.layer1(x)\n",
    "        out = self.sigmoid(out)\n",
    "        out = self.layer2(out)\n",
    "        out = self.sigmoid(out)\n",
    "        out = self.layer3(out)\n",
    "        out = self.sigmoid(out)\n",
    "        return out"
   ]
  },
  {
   "cell_type": "code",
   "execution_count": 47,
   "id": "76056f95-3978-44e4-94a0-a9c4c7ee21fc",
   "metadata": {
    "tags": []
   },
   "outputs": [],
   "source": [
    "# Hyperparameters\n",
    "learning_rate = 0.0001\n",
    "num_epochs = 50\n",
    "weight_decay = 0.005\n",
    "momentum = 0.9\n",
    "\n",
    "criterion = torch.nn.BCELoss()\n",
    "optimizer = torch.optim.SGD\n",
    "\n",
    "# Model definition\n",
    "input_size = 1\n",
    "model = SimpleNet(input_size)\n",
    "\n",
    "# Optimizer\n",
    "optimizer = optimizer(model.parameters(), lr=learning_rate, weight_decay=weight_decay, momentum=momentum)"
   ]
  },
  {
   "cell_type": "code",
   "execution_count": 48,
   "id": "db1b0241-6c87-40cf-8e55-d8cddf5cc71e",
   "metadata": {
    "tags": []
   },
   "outputs": [
    {
     "name": "stdout",
     "output_type": "stream",
     "text": [
      "CPU times: user 17.6 s, sys: 967 µs, total: 17.6 s\n",
      "Wall time: 17.7 s\n"
     ]
    }
   ],
   "source": [
    "%%time\n",
    "for epoch in range(num_epochs):\n",
    "    for i, sample in enumerate(train_loader):\n",
    "        # Forward\n",
    "        x, y = sample\n",
    "        output = model(x)\n",
    "        \n",
    "        # loss\n",
    "        loss = criterion(output, y)\n",
    "        \n",
    "        # Backward and optimize\n",
    "        optimizer.zero_grad()\n",
    "        loss.backward()\n",
    "        optimizer.step()\n",
    "        \n",
    "    #print ('Epoch [{}/{}], Loss: {:.4f}'.format(epoch+1, num_epochs, loss.item()))         "
   ]
  },
  {
   "cell_type": "code",
   "execution_count": 49,
   "id": "596b31e9-8e66-44df-ad0c-6e150988431e",
   "metadata": {
    "tags": []
   },
   "outputs": [
    {
     "name": "stdout",
     "output_type": "stream",
     "text": [
      "Accuracy of the network on the 5728 test samples: 78.21 %\n"
     ]
    }
   ],
   "source": [
    " with torch.no_grad():\n",
    "    acc = 0\n",
    "    total = len(test_loader)\n",
    "    for x, y in test_loader:\n",
    "        y_pred = model(x)\n",
    "        acc += (y_pred.round() == y).float().mean()\n",
    "    \n",
    "    print('Accuracy of the network on the {} test samples: {:.2f} %'.format(total, 100 * acc / total)) "
   ]
  },
  {
   "cell_type": "code",
   "execution_count": 50,
   "id": "3b0cd52e-0e43-479c-8664-b91bfb94b879",
   "metadata": {},
   "outputs": [
    {
     "name": "stdout",
     "output_type": "stream",
     "text": [
      "============== Diagnostic Run torch.onnx.export version 2.0.0+cpu ==============\n",
      "verbose: False, log level: Level.ERROR\n",
      "======================= 0 NONE 0 NOTE 0 WARNING 0 ERROR ========================\n",
      "\n"
     ]
    }
   ],
   "source": [
    "input_sample, _ = next(iter(train_loader))\n",
    "input_names = ['person_age', 'person_income', 'person_emp_length']\n",
    "output_names = ['loan_status']\n",
    "torch.onnx.export(model, input_sample, \"credit_risk.onnx\", input_names=input_names, output_names=output_names)"
   ]
  },
  {
   "cell_type": "code",
   "execution_count": null,
   "id": "e87a20bd-f8af-4035-94a1-e61c74266a08",
   "metadata": {},
   "outputs": [],
   "source": []
  }
 ],
 "metadata": {
  "kernelspec": {
   "display_name": "Python 3 (ipykernel)",
   "language": "python",
   "name": "python3"
  },
  "language_info": {
   "codemirror_mode": {
    "name": "ipython",
    "version": 3
   },
   "file_extension": ".py",
   "mimetype": "text/x-python",
   "name": "python",
   "nbconvert_exporter": "python",
   "pygments_lexer": "ipython3",
   "version": "3.10.8"
  }
 },
 "nbformat": 4,
 "nbformat_minor": 5
}
